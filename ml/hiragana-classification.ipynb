{
 "cells": [
  {
   "cell_type": "markdown",
   "metadata": {},
   "source": [
    "# Hiragana Classification"
   ]
  },
  {
   "cell_type": "markdown",
   "metadata": {},
   "source": [
    "## Data Wrangling"
   ]
  },
  {
   "cell_type": "code",
   "execution_count": 1,
   "metadata": {},
   "outputs": [],
   "source": [
    "from datasets import download_data"
   ]
  },
  {
   "cell_type": "code",
   "execution_count": 3,
   "metadata": {},
   "outputs": [
    {
     "name": "stdout",
     "output_type": "stream",
     "text": [
      "All dataset files downloaded!\n"
     ]
    }
   ],
   "source": [
    "download_data.run()"
   ]
  },
  {
   "cell_type": "code",
   "execution_count": 4,
   "metadata": {},
   "outputs": [],
   "source": [
    "import numpy as np\n",
    "import os\n",
    "def load_dataset():\n",
    "    path_names = ['train-labels', 'train-imgs', 'test-labels', 'test-imgs']\n",
    "    return [np.load(os.path.join(\"datasets\", \"k49-\") + i + '.npz')['arr_0'] for i in path_names]"
   ]
  },
  {
   "cell_type": "code",
   "execution_count": 55,
   "metadata": {},
   "outputs": [
    {
     "data": {
      "text/plain": [
       "(232365, 28, 28)"
      ]
     },
     "execution_count": 55,
     "metadata": {},
     "output_type": "execute_result"
    }
   ],
   "source": [
    "train_y, train_X, test_y, test_X = load_dataset()\n",
    "train_X.shape"
   ]
  },
  {
   "cell_type": "markdown",
   "metadata": {},
   "source": [
    "The image is 28x28 pixels and absence of third dimension indicates that the image is grey scale."
   ]
  },
  {
   "cell_type": "code",
   "execution_count": 6,
   "metadata": {},
   "outputs": [
    {
     "data": {
      "text/plain": [
       "array([19, 23, 10, ...,  1, 27, 47], dtype=uint8)"
      ]
     },
     "execution_count": 6,
     "metadata": {},
     "output_type": "execute_result"
    }
   ],
   "source": [
    "test_y"
   ]
  },
  {
   "cell_type": "markdown",
   "metadata": {},
   "source": [
    "The labels seem to be not one-hot encoded. We would need to one-hot encode it or configure models to support sparse labels."
   ]
  },
  {
   "cell_type": "code",
   "execution_count": 7,
   "metadata": {},
   "outputs": [
    {
     "data": {
      "image/png": "[encoded data removed]",
      "text/plain": [
       "<Figure size 432x288 with 1 Axes>"
      ]
     },
     "metadata": {
      "needs_background": "light"
     },
     "output_type": "display_data"
    }
   ],
   "source": [
    "import matplotlib.pyplot as plt\n",
    "\n",
    "plt.imshow(train_X[0], cmap='binary')\n",
    "plt.show()"
   ]
  },
  {
   "cell_type": "markdown",
   "metadata": {},
   "source": [
    "It doesn't seem that we need data cleaning for this particular task. We would, however, need to scale the grey scale to range 0-1 in order for Gradient Descent algorithm to work well."
   ]
  },
  {
   "cell_type": "code",
   "execution_count": 73,
   "metadata": {},
   "outputs": [],
   "source": [
    "# Scailing grey scale\n",
    "train_X = train_X/255.0\n",
    "test_X = test_X/255.0"
   ]
  },
  {
   "cell_type": "markdown",
   "metadata": {},
   "source": [
    "## Data Exploration"
   ]
  },
  {
   "cell_type": "code",
   "execution_count": 56,
   "metadata": {},
   "outputs": [
    {
     "data": {
      "text/html": [
       "<div>\n",
       "<style scoped>\n",
       "    .dataframe tbody tr th:only-of-type {\n",
       "        vertical-align: middle;\n",
       "    }\n",
       "\n",
       "    .dataframe tbody tr th {\n",
       "        vertical-align: top;\n",
       "    }\n",
       "\n",
       "    .dataframe thead th {\n",
       "        text-align: right;\n",
       "    }\n",
       "</style>\n",
       "<table border=\"1\" class=\"dataframe\">\n",
       "  <thead>\n",
       "    <tr style=\"text-align: right;\">\n",
       "      <th></th>\n",
       "      <th>index</th>\n",
       "      <th>codepoint</th>\n",
       "      <th>char</th>\n",
       "    </tr>\n",
       "  </thead>\n",
       "  <tbody>\n",
       "    <tr>\n",
       "      <th>44</th>\n",
       "      <td>44</td>\n",
       "      <td>U+3090</td>\n",
       "      <td>ゐ</td>\n",
       "    </tr>\n",
       "    <tr>\n",
       "      <th>45</th>\n",
       "      <td>45</td>\n",
       "      <td>U+3091</td>\n",
       "      <td>ゑ</td>\n",
       "    </tr>\n",
       "    <tr>\n",
       "      <th>46</th>\n",
       "      <td>46</td>\n",
       "      <td>U+3092</td>\n",
       "      <td>を</td>\n",
       "    </tr>\n",
       "    <tr>\n",
       "      <th>47</th>\n",
       "      <td>47</td>\n",
       "      <td>U+3093</td>\n",
       "      <td>ん</td>\n",
       "    </tr>\n",
       "    <tr>\n",
       "      <th>48</th>\n",
       "      <td>48</td>\n",
       "      <td>U+309D</td>\n",
       "      <td>ゝ</td>\n",
       "    </tr>\n",
       "  </tbody>\n",
       "</table>\n",
       "</div>"
      ],
      "text/plain": [
       "    index codepoint char\n",
       "44     44    U+3090    ゐ\n",
       "45     45    U+3091    ゑ\n",
       "46     46    U+3092    を\n",
       "47     47    U+3093    ん\n",
       "48     48    U+309D    ゝ"
      ]
     },
     "execution_count": 56,
     "metadata": {},
     "output_type": "execute_result"
    }
   ],
   "source": [
    "import pandas as pd\n",
    "import seaborn as sns\n",
    "label_df = pd.read_csv(os.path.join('datasets', 'k49_classmap.csv'))\n",
    "label_df.tail(5)"
   ]
  },
  {
   "cell_type": "markdown",
   "metadata": {},
   "source": [
    "I found very uncommon character at index 44, 45, and 48. I will remove these as these are barely used in the conversation."
   ]
  },
  {
   "cell_type": "code",
   "execution_count": 59,
   "metadata": {},
   "outputs": [],
   "source": [
    "def remove_uncommon_characters(y, X):\n",
    "    \"\"\"\n",
    "    Remove unwanted labels which correspond to very uncommon characters used in Japan.\n",
    "    It also re-label those following characters.\n",
    "    \"\"\"\n",
    "    labels = [44, 45, 48]\n",
    "    indices = []\n",
    "    for i in range(len(X)):\n",
    "        if y[i] in labels:\n",
    "            indices.append(i)\n",
    "            continue\n",
    "            \n",
    "        if y[i] == 46:\n",
    "            y[i] = 44\n",
    "            continue\n",
    "        \n",
    "        if y[i] == 47:\n",
    "            y[i] = 45\n",
    "            continue\n",
    "    \n",
    "    return np.delete(y, indices), np.delete(X, indices, axis=0)"
   ]
  },
  {
   "cell_type": "code",
   "execution_count": 60,
   "metadata": {},
   "outputs": [],
   "source": [
    "# remove the characters from labels as well.\n",
    "label_df = label_df.drop([44, 45, 48])\n",
    "label_df.reset_index(drop=True)    \n",
    "label_df['index'] = label_df.index"
   ]
  },
  {
   "cell_type": "code",
   "execution_count": 61,
   "metadata": {},
   "outputs": [],
   "source": [
    "train_y, train_X = remove_uncommon_characters(train_y, train_X)\n",
    "test_y, test_X = remove_uncommon_characters(test_y, test_X)"
   ]
  },
  {
   "cell_type": "code",
   "execution_count": 64,
   "metadata": {},
   "outputs": [
    {
     "data": {
      "text/html": [
       "<div>\n",
       "<style scoped>\n",
       "    .dataframe tbody tr th:only-of-type {\n",
       "        vertical-align: middle;\n",
       "    }\n",
       "\n",
       "    .dataframe tbody tr th {\n",
       "        vertical-align: top;\n",
       "    }\n",
       "\n",
       "    .dataframe thead th {\n",
       "        text-align: right;\n",
       "    }\n",
       "</style>\n",
       "<table border=\"1\" class=\"dataframe\">\n",
       "  <thead>\n",
       "    <tr style=\"text-align: right;\">\n",
       "      <th></th>\n",
       "      <th>index</th>\n",
       "      <th>codepoint</th>\n",
       "      <th>char</th>\n",
       "    </tr>\n",
       "  </thead>\n",
       "  <tbody>\n",
       "    <tr>\n",
       "      <th>41</th>\n",
       "      <td>41</td>\n",
       "      <td>U+308C</td>\n",
       "      <td>れ</td>\n",
       "    </tr>\n",
       "    <tr>\n",
       "      <th>42</th>\n",
       "      <td>42</td>\n",
       "      <td>U+308D</td>\n",
       "      <td>ろ</td>\n",
       "    </tr>\n",
       "    <tr>\n",
       "      <th>43</th>\n",
       "      <td>43</td>\n",
       "      <td>U+308F</td>\n",
       "      <td>わ</td>\n",
       "    </tr>\n",
       "    <tr>\n",
       "      <th>46</th>\n",
       "      <td>46</td>\n",
       "      <td>U+3092</td>\n",
       "      <td>を</td>\n",
       "    </tr>\n",
       "    <tr>\n",
       "      <th>47</th>\n",
       "      <td>47</td>\n",
       "      <td>U+3093</td>\n",
       "      <td>ん</td>\n",
       "    </tr>\n",
       "  </tbody>\n",
       "</table>\n",
       "</div>"
      ],
      "text/plain": [
       "    index codepoint char\n",
       "41     41    U+308C    れ\n",
       "42     42    U+308D    ろ\n",
       "43     43    U+308F    わ\n",
       "46     46    U+3092    を\n",
       "47     47    U+3093    ん"
      ]
     },
     "execution_count": 64,
     "metadata": {},
     "output_type": "execute_result"
    }
   ],
   "source": [
    "label_df.tail(5)"
   ]
  },
  {
   "cell_type": "code",
   "execution_count": 65,
   "metadata": {},
   "outputs": [
    {
     "data": {
      "text/plain": [
       "<seaborn.axisgrid.FacetGrid at 0x7f1448a798b0>"
      ]
     },
     "execution_count": 65,
     "metadata": {},
     "output_type": "execute_result"
    },
    {
     "data": {
      "image/png": "[encoded data removed]",
      "text/plain": [
       "<Figure size 360x360 with 1 Axes>"
      ]
     },
     "metadata": {},
     "output_type": "display_data"
    }
   ],
   "source": [
    "sns.set_theme()\n",
    "sns.displot(train_y)"
   ]
  },
  {
   "cell_type": "markdown",
   "metadata": {},
   "source": [
    "We have 6k instances for each character, but for some character, we have less. Especially, it seems that data on some character is a lot less than 6000 observations."
   ]
  },
  {
   "cell_type": "code",
   "execution_count": 66,
   "metadata": {},
   "outputs": [],
   "source": [
    "train_y_df = pd.DataFrame({'label': train_y})\n",
    "counts = train_y_df['label'].value_counts()"
   ]
  },
  {
   "cell_type": "code",
   "execution_count": 67,
   "metadata": {},
   "outputs": [
    {
     "data": {
      "text/html": [
       "<div>\n",
       "<style scoped>\n",
       "    .dataframe tbody tr th:only-of-type {\n",
       "        vertical-align: middle;\n",
       "    }\n",
       "\n",
       "    .dataframe tbody tr th {\n",
       "        vertical-align: top;\n",
       "    }\n",
       "\n",
       "    .dataframe thead th {\n",
       "        text-align: right;\n",
       "    }\n",
       "</style>\n",
       "<table border=\"1\" class=\"dataframe\">\n",
       "  <thead>\n",
       "    <tr style=\"text-align: right;\">\n",
       "      <th></th>\n",
       "      <th>label</th>\n",
       "      <th>index</th>\n",
       "      <th>codepoint</th>\n",
       "      <th>char</th>\n",
       "    </tr>\n",
       "  </thead>\n",
       "  <tbody>\n",
       "    <tr>\n",
       "      <th>16</th>\n",
       "      <td>2565</td>\n",
       "      <td>16</td>\n",
       "      <td>U+3061</td>\n",
       "      <td>ち</td>\n",
       "    </tr>\n",
       "    <tr>\n",
       "      <th>23</th>\n",
       "      <td>2451</td>\n",
       "      <td>23</td>\n",
       "      <td>U+306D</td>\n",
       "      <td>ね</td>\n",
       "    </tr>\n",
       "    <tr>\n",
       "      <th>43</th>\n",
       "      <td>2397</td>\n",
       "      <td>43</td>\n",
       "      <td>U+308F</td>\n",
       "      <td>わ</td>\n",
       "    </tr>\n",
       "    <tr>\n",
       "      <th>42</th>\n",
       "      <td>2139</td>\n",
       "      <td>42</td>\n",
       "      <td>U+308D</td>\n",
       "      <td>ろ</td>\n",
       "    </tr>\n",
       "    <tr>\n",
       "      <th>22</th>\n",
       "      <td>2063</td>\n",
       "      <td>22</td>\n",
       "      <td>U+306C</td>\n",
       "      <td>ぬ</td>\n",
       "    </tr>\n",
       "    <tr>\n",
       "      <th>29</th>\n",
       "      <td>1993</td>\n",
       "      <td>29</td>\n",
       "      <td>U+307B</td>\n",
       "      <td>ほ</td>\n",
       "    </tr>\n",
       "    <tr>\n",
       "      <th>32</th>\n",
       "      <td>1718</td>\n",
       "      <td>32</td>\n",
       "      <td>U+3080</td>\n",
       "      <td>む</td>\n",
       "    </tr>\n",
       "    <tr>\n",
       "      <th>36</th>\n",
       "      <td>1598</td>\n",
       "      <td>36</td>\n",
       "      <td>U+3086</td>\n",
       "      <td>ゆ</td>\n",
       "    </tr>\n",
       "    <tr>\n",
       "      <th>3</th>\n",
       "      <td>777</td>\n",
       "      <td>3</td>\n",
       "      <td>U+3048</td>\n",
       "      <td>え</td>\n",
       "    </tr>\n",
       "  </tbody>\n",
       "</table>\n",
       "</div>"
      ],
      "text/plain": [
       "    label  index codepoint char\n",
       "16   2565     16    U+3061    ち\n",
       "23   2451     23    U+306D    ね\n",
       "43   2397     43    U+308F    わ\n",
       "42   2139     42    U+308D    ろ\n",
       "22   2063     22    U+306C    ぬ\n",
       "29   1993     29    U+307B    ほ\n",
       "32   1718     32    U+3080    む\n",
       "36   1598     36    U+3086    ゆ\n",
       "3     777      3    U+3048    え"
      ]
     },
     "execution_count": 67,
     "metadata": {},
     "output_type": "execute_result"
    }
   ],
   "source": [
    "counts_df = counts[counts < 3000].to_frame()\n",
    "counts_df.join(label_df)"
   ]
  },
  {
   "cell_type": "markdown",
   "metadata": {},
   "source": [
    "It makes sense that these characters don't have many observations as they are relatively uncommon. For neural network, we might need to tweak weights on these uncommon characters."
   ]
  },
  {
   "cell_type": "code",
   "execution_count": null,
   "metadata": {},
   "outputs": [],
   "source": [
    "counts.to_frame().sort_value('index')"
   ]
  },
  {
   "cell_type": "markdown",
   "metadata": {},
   "source": [
    "## Building Models\n",
    "The performance measure I will use for models is accuracy."
   ]
  },
  {
   "cell_type": "code",
   "execution_count": 152,
   "metadata": {},
   "outputs": [],
   "source": [
    "def calculate_accuracy(actual, predicted):\n",
    "    return (test_y == y_hats).mean()"
   ]
  },
  {
   "cell_type": "code",
   "execution_count": 19,
   "metadata": {},
   "outputs": [],
   "source": [
    "def show_score(scores):\n",
    "    print(f'CV Accuracy Mean: {scores.mean()}')\n",
    "    print(f'std: {scores.std()}' )"
   ]
  },
  {
   "cell_type": "markdown",
   "metadata": {},
   "source": [
    "### RandomForest"
   ]
  },
  {
   "cell_type": "code",
   "execution_count": 15,
   "metadata": {},
   "outputs": [
    {
     "data": {
      "text/plain": [
       "RandomForestClassifier()"
      ]
     },
     "execution_count": 15,
     "metadata": {},
     "output_type": "execute_result"
    }
   ],
   "source": [
    "from sklearn.ensemble import RandomForestClassifier\n",
    "\n",
    "rf_clf = RandomForestClassifier()\n",
    "rf_clf.fit(train_X.reshape(-1, 28 * 28), train_y)"
   ]
  },
  {
   "cell_type": "code",
   "execution_count": 143,
   "metadata": {},
   "outputs": [],
   "source": [
    "import pickle\n",
    "\n",
    "with open(\"models/rf.pkl\", 'wb') as f:\n",
    "    pickle.dump(rf_clf, f)"
   ]
  },
  {
   "cell_type": "code",
   "execution_count": 20,
   "metadata": {},
   "outputs": [
    {
     "name": "stdout",
     "output_type": "stream",
     "text": [
      "mean: 0.885213965505805\n",
      "std: {scores.std()}\n"
     ]
    }
   ],
   "source": [
    "from sklearn.model_selection import cross_val_score\n",
    "scores = cross_val_score(rf_clf, train_X.reshape(-1, 28 * 28), train_y, scoring=\"accuracy\", cv=10)\n",
    "show_score(scores)"
   ]
  },
  {
   "cell_type": "code",
   "execution_count": 153,
   "metadata": {},
   "outputs": [
    {
     "name": "stdout",
     "output_type": "stream",
     "text": [
      "test accuracy: 0.7496366375095795\n"
     ]
    }
   ],
   "source": [
    "y_hats = rf_clf.predict(test_X.reshape(-1, 28 * 28))\n",
    "print(f'test accuracy: {calculate_accuracy(test_y, y_hats)}')"
   ]
  },
  {
   "cell_type": "markdown",
   "metadata": {},
   "source": [
    "### XGBoost"
   ]
  },
  {
   "cell_type": "code",
   "execution_count": 18,
   "metadata": {},
   "outputs": [
    {
     "name": "stdout",
     "output_type": "stream",
     "text": [
      "[00:08:11] WARNING: ../src/learner.cc:1095: Starting in XGBoost 1.3.0, the default evaluation metric used with the objective 'multi:softprob' was changed from 'merror' to 'mlogloss'. Explicitly set eval_metric if you'd like to restore the old behavior.\n"
     ]
    },
    {
     "data": {
      "text/plain": [
       "XGBClassifier(base_score=0.5, booster='gbtree', colsample_bylevel=1,\n",
       "              colsample_bynode=1, colsample_bytree=1, gamma=0, gpu_id=0,\n",
       "              importance_type='gain', interaction_constraints='',\n",
       "              learning_rate=0.300000012, max_delta_step=0, max_depth=6,\n",
       "              min_child_weight=1, missing=nan, monotone_constraints='()',\n",
       "              n_estimators=100, n_jobs=12, num_parallel_tree=1,\n",
       "              objective='multi:softprob', random_state=0, reg_alpha=0,\n",
       "              reg_lambda=1, scale_pos_weight=None, subsample=1,\n",
       "              tree_method='gpu_hist', validate_parameters=1, verbosity=None)"
      ]
     },
     "execution_count": 18,
     "metadata": {},
     "output_type": "execute_result"
    }
   ],
   "source": [
    "from xgboost import XGBClassifier\n",
    "\n",
    "xgb_clf = XGBClassifier(tree_method='gpu_hist')\n",
    "xgb_clf.fit(train_X.reshape(-1, 28 * 28), train_y)"
   ]
  },
  {
   "cell_type": "code",
   "execution_count": 24,
   "metadata": {},
   "outputs": [],
   "source": [
    "import pickle\n",
    "\n",
    "with open(\"models/xgb.pkl\", 'wb') as f:\n",
    "    pickle.dump(xgb_clf, f)"
   ]
  },
  {
   "cell_type": "code",
   "execution_count": 21,
   "metadata": {},
   "outputs": [
    {
     "name": "stdout",
     "output_type": "stream",
     "text": [
      "mean: 0.8850429442243506\n",
      "std: {scores.std()}\n"
     ]
    }
   ],
   "source": [
    "from sklearn.model_selection import cross_val_score\n",
    "scores = cross_val_score(rf_clf, train_X.reshape(-1, 28 * 28), train_y, scoring=\"accuracy\", cv=10)\n",
    "show_score(scores)"
   ]
  },
  {
   "cell_type": "code",
   "execution_count": 154,
   "metadata": {},
   "outputs": [
    {
     "name": "stdout",
     "output_type": "stream",
     "text": [
      "test accuracy: 0.7634047726011469\n"
     ]
    }
   ],
   "source": [
    "y_hats = xgb_clf.predict(test_X.reshape(-1, 28 * 28))\n",
    "print(f'test accuracy: {calculate_accuracy(test_y, y_hats)}')"
   ]
  },
  {
   "cell_type": "markdown",
   "metadata": {},
   "source": [
    "The reasons why CV accuracy is not a good estimator of test accuracy might come from the fact that the ratio of characters in train set is different from test set. Anyways, these models don't perform well. I'd think no hyper-parameter tuning needed."
   ]
  },
  {
   "cell_type": "markdown",
   "metadata": {},
   "source": [
    "### Sequential #1\n",
    "- A sequential nnet with a simple architecture. \n",
    "- Output activiation is softmax as this is a multi-label classification whose labels are exclusive. \n",
    "- ReLU is a nice default hidden activation function. \n",
    "- We will use cross entropy as loss function and stochastic gradient descent as optimizer as a starting point."
   ]
  },
  {
   "cell_type": "code",
   "execution_count": 98,
   "metadata": {},
   "outputs": [],
   "source": [
    "from tensorflow.keras.layers import Flatten, Dense\n",
    "from tensorflow.keras.models import Sequential\n",
    "\n",
    "def build_seq_one():\n",
    "    model = Sequential()\n",
    "    model.add(Flatten(input_shape=[28, 28]))\n",
    "    model.add(Dense(512, activation='relu'))\n",
    "    model.add(Dense(256, activation='relu'))\n",
    "    model.add(Dense(128, activation='relu'))\n",
    "    model.add(Dense(48, activation='softmax'))\n",
    "    \n",
    "    return model"
   ]
  },
  {
   "cell_type": "code",
   "execution_count": 99,
   "metadata": {},
   "outputs": [
    {
     "name": "stdout",
     "output_type": "stream",
     "text": [
      "Model: \"sequential_6\"\n",
      "_________________________________________________________________\n",
      "Layer (type)                 Output Shape              Param #   \n",
      "=================================================================\n",
      "flatten_6 (Flatten)          (None, 784)               0         \n",
      "_________________________________________________________________\n",
      "dense_24 (Dense)             (None, 512)               401920    \n",
      "_________________________________________________________________\n",
      "dense_25 (Dense)             (None, 256)               131328    \n",
      "_________________________________________________________________\n",
      "dense_26 (Dense)             (None, 128)               32896     \n",
      "_________________________________________________________________\n",
      "dense_27 (Dense)             (None, 48)                6192      \n",
      "=================================================================\n",
      "Total params: 572,336\n",
      "Trainable params: 572,336\n",
      "Non-trainable params: 0\n",
      "_________________________________________________________________\n"
     ]
    }
   ],
   "source": [
    "model1 = build_seq_one()\n",
    "model1.summary()"
   ]
  },
  {
   "cell_type": "code",
   "execution_count": 100,
   "metadata": {},
   "outputs": [],
   "source": [
    "from tensorflow.keras.optimizers import SGD\n",
    "from tensorflow.keras.losses import sparse_categorical_crossentropy\n",
    "model1.compile(loss=sparse_categorical_crossentropy,\n",
    "             optimizer= SGD(learning_rate=0.001),\n",
    "             metrics=[\"accuracy\"])"
   ]
  },
  {
   "cell_type": "code",
   "execution_count": 101,
   "metadata": {},
   "outputs": [
    {
     "name": "stdout",
     "output_type": "stream",
     "text": [
      "Epoch 1/30\n",
      "\r\n",
      "   1/5401 [..............................] - ETA: 14:03 - loss: 3.9199 - accuracy: 0.0000e+00"
     ]
    },
    {
     "name": "stderr",
     "output_type": "stream",
     "text": [
      "2021-10-11 17:35:04.502384: W tensorflow/core/framework/cpu_allocator_impl.cc:80] Allocation of 541982336 exceeds 10% of free system memory.\n"
     ]
    },
    {
     "name": "stdout",
     "output_type": "stream",
     "text": [
      "5401/5401 [==============================] - 11s 2ms/step - loss: 3.3802 - accuracy: 0.2012 - val_loss: 2.6802 - val_accuracy: 0.4182\n",
      "Epoch 2/30\n",
      "5401/5401 [==============================] - 10s 2ms/step - loss: 2.1250 - accuracy: 0.5100 - val_loss: 1.7914 - val_accuracy: 0.5683\n",
      "Epoch 3/30\n",
      "5401/5401 [==============================] - 10s 2ms/step - loss: 1.6246 - accuracy: 0.5994 - val_loss: 1.5155 - val_accuracy: 0.6207\n",
      "Epoch 4/30\n",
      "5401/5401 [==============================] - 10s 2ms/step - loss: 1.4273 - accuracy: 0.6408 - val_loss: 1.3731 - val_accuracy: 0.6536\n",
      "Epoch 5/30\n",
      "5401/5401 [==============================] - 10s 2ms/step - loss: 1.3086 - accuracy: 0.6681 - val_loss: 1.2754 - val_accuracy: 0.6794\n",
      "Epoch 6/30\n",
      "5401/5401 [==============================] - 10s 2ms/step - loss: 1.2229 - accuracy: 0.6893 - val_loss: 1.2043 - val_accuracy: 0.6961\n",
      "Epoch 7/30\n",
      "5401/5401 [==============================] - 11s 2ms/step - loss: 1.1546 - accuracy: 0.7065 - val_loss: 1.1413 - val_accuracy: 0.7095\n",
      "Epoch 8/30\n",
      "5401/5401 [==============================] - 11s 2ms/step - loss: 1.0963 - accuracy: 0.7213 - val_loss: 1.0911 - val_accuracy: 0.7219\n",
      "Epoch 9/30\n",
      "5401/5401 [==============================] - 11s 2ms/step - loss: 1.0452 - accuracy: 0.7339 - val_loss: 1.0410 - val_accuracy: 0.7357\n",
      "Epoch 10/30\n",
      "5401/5401 [==============================] - 11s 2ms/step - loss: 0.9994 - accuracy: 0.7460 - val_loss: 1.0008 - val_accuracy: 0.7435\n",
      "Epoch 11/30\n",
      "5401/5401 [==============================] - 11s 2ms/step - loss: 0.9571 - accuracy: 0.7567 - val_loss: 0.9662 - val_accuracy: 0.7533\n",
      "Epoch 12/30\n",
      "5401/5401 [==============================] - 10s 2ms/step - loss: 0.9184 - accuracy: 0.7665 - val_loss: 0.9311 - val_accuracy: 0.7644\n",
      "Epoch 13/30\n",
      "5401/5401 [==============================] - 10s 2ms/step - loss: 0.8824 - accuracy: 0.7756 - val_loss: 0.8970 - val_accuracy: 0.7701\n",
      "Epoch 14/30\n",
      "5401/5401 [==============================] - 10s 2ms/step - loss: 0.8494 - accuracy: 0.7842 - val_loss: 0.8623 - val_accuracy: 0.7784\n",
      "Epoch 15/30\n",
      "5401/5401 [==============================] - 10s 2ms/step - loss: 0.8184 - accuracy: 0.7919 - val_loss: 0.8366 - val_accuracy: 0.7864\n",
      "Epoch 16/30\n",
      "5401/5401 [==============================] - 10s 2ms/step - loss: 0.7895 - accuracy: 0.7990 - val_loss: 0.8078 - val_accuracy: 0.7918\n",
      "Epoch 17/30\n",
      "5401/5401 [==============================] - 11s 2ms/step - loss: 0.7627 - accuracy: 0.8059 - val_loss: 0.7845 - val_accuracy: 0.7986\n",
      "Epoch 18/30\n",
      "5401/5401 [==============================] - 10s 2ms/step - loss: 0.7377 - accuracy: 0.8118 - val_loss: 0.7633 - val_accuracy: 0.8032\n",
      "Epoch 19/30\n",
      "5401/5401 [==============================] - 10s 2ms/step - loss: 0.7147 - accuracy: 0.8179 - val_loss: 0.7406 - val_accuracy: 0.8091\n",
      "Epoch 20/30\n",
      "5401/5401 [==============================] - 10s 2ms/step - loss: 0.6924 - accuracy: 0.8230 - val_loss: 0.7210 - val_accuracy: 0.8141\n",
      "Epoch 21/30\n",
      "5401/5401 [==============================] - 10s 2ms/step - loss: 0.6720 - accuracy: 0.8282 - val_loss: 0.7052 - val_accuracy: 0.8174\n",
      "Epoch 22/30\n",
      "5401/5401 [==============================] - 10s 2ms/step - loss: 0.6529 - accuracy: 0.8332 - val_loss: 0.6866 - val_accuracy: 0.8227\n",
      "Epoch 23/30\n",
      "5401/5401 [==============================] - 10s 2ms/step - loss: 0.6347 - accuracy: 0.8372 - val_loss: 0.6690 - val_accuracy: 0.8272\n",
      "Epoch 24/30\n",
      "5401/5401 [==============================] - 11s 2ms/step - loss: 0.6175 - accuracy: 0.8421 - val_loss: 0.6559 - val_accuracy: 0.8300\n",
      "Epoch 25/30\n",
      "5401/5401 [==============================] - 11s 2ms/step - loss: 0.6016 - accuracy: 0.8457 - val_loss: 0.6404 - val_accuracy: 0.8344\n",
      "Epoch 26/30\n",
      "5401/5401 [==============================] - 11s 2ms/step - loss: 0.5863 - accuracy: 0.8491 - val_loss: 0.6271 - val_accuracy: 0.8362\n",
      "Epoch 27/30\n",
      "5401/5401 [==============================] - 11s 2ms/step - loss: 0.5719 - accuracy: 0.8529 - val_loss: 0.6124 - val_accuracy: 0.8414\n",
      "Epoch 28/30\n",
      "5401/5401 [==============================] - 12s 2ms/step - loss: 0.5583 - accuracy: 0.8562 - val_loss: 0.6016 - val_accuracy: 0.8431\n",
      "Epoch 29/30\n",
      "5401/5401 [==============================] - 11s 2ms/step - loss: 0.5452 - accuracy: 0.8592 - val_loss: 0.5933 - val_accuracy: 0.8457\n",
      "Epoch 30/30\n",
      "5401/5401 [==============================] - 10s 2ms/step - loss: 0.5330 - accuracy: 0.8621 - val_loss: 0.5794 - val_accuracy: 0.8480\n"
     ]
    }
   ],
   "source": [
    "history = model1.fit(train_X, train_y, epochs=30, validation_split=0.2)"
   ]
  },
  {
   "cell_type": "code",
   "execution_count": 104,
   "metadata": {},
   "outputs": [
    {
     "data": {
      "text/plain": [
       "<AxesSubplot:>"
      ]
     },
     "execution_count": 104,
     "metadata": {},
     "output_type": "execute_result"
    },
    {
     "data": {
      "image/png": "[encoded data removed]",
      "text/plain": [
       "<Figure size 432x288 with 1 Axes>"
      ]
     },
     "metadata": {},
     "output_type": "display_data"
    }
   ],
   "source": [
    "pd.DataFrame(history.history).plot()"
   ]
  },
  {
   "cell_type": "code",
   "execution_count": 114,
   "metadata": {},
   "outputs": [
    {
     "name": "stdout",
     "output_type": "stream",
     "text": [
      "1183/1183 [==============================] - 1s 1ms/step - loss: 1.6024 - accuracy: 0.7510\n"
     ]
    },
    {
     "data": {
      "text/plain": [
       "[1.602389931678772, 0.7509579658508301]"
      ]
     },
     "execution_count": 114,
     "metadata": {},
     "output_type": "execute_result"
    }
   ],
   "source": [
    "model1.evaluate(test_X, test_y)"
   ]
  },
  {
   "cell_type": "markdown",
   "metadata": {},
   "source": [
    "The simple sequential model seems to suffer from overfitting. It doesn't generalise well and performs even worse than random forest or xgboost. It might not be good idea to proceed with this model."
   ]
  },
  {
   "cell_type": "markdown",
   "metadata": {},
   "source": [
    "### CNN #1"
   ]
  },
  {
   "cell_type": "code",
   "execution_count": 136,
   "metadata": {},
   "outputs": [],
   "source": [
    "from keras.layers import Conv2D, MaxPooling2D, Dropout\n",
    "\n",
    "def build_cnn_one():\n",
    "    model = Sequential()\n",
    "    model.add(Conv2D(32, kernel_size=(3,3),\n",
    "                    activation=\"relu\",\n",
    "                    input_shape=[28, 28, 1]))\n",
    "    model.add(Conv2D(64, (3,3), activation=\"relu\"))\n",
    "    model.add(MaxPooling2D(pool_size=(2,2)))\n",
    "    model.add(Dropout(0.25))\n",
    "    model.add(Flatten())\n",
    "    model.add(Dense(256, activation='relu'))\n",
    "    model.add(Dropout(0.5))\n",
    "    model.add(Dense(48, activation='softmax'))\n",
    "    \n",
    "    return model"
   ]
  },
  {
   "cell_type": "code",
   "execution_count": 137,
   "metadata": {},
   "outputs": [
    {
     "name": "stdout",
     "output_type": "stream",
     "text": [
      "Model: \"sequential_12\"\n",
      "_________________________________________________________________\n",
      "Layer (type)                 Output Shape              Param #   \n",
      "=================================================================\n",
      "conv2d_7 (Conv2D)            (None, 26, 26, 32)        320       \n",
      "_________________________________________________________________\n",
      "conv2d_8 (Conv2D)            (None, 24, 24, 64)        18496     \n",
      "_________________________________________________________________\n",
      "max_pooling2d_2 (MaxPooling2 (None, 12, 12, 64)        0         \n",
      "_________________________________________________________________\n",
      "dropout_4 (Dropout)          (None, 12, 12, 64)        0         \n",
      "_________________________________________________________________\n",
      "flatten_9 (Flatten)          (None, 9216)              0         \n",
      "_________________________________________________________________\n",
      "dense_32 (Dense)             (None, 256)               2359552   \n",
      "_________________________________________________________________\n",
      "dropout_5 (Dropout)          (None, 256)               0         \n",
      "_________________________________________________________________\n",
      "dense_33 (Dense)             (None, 48)                12336     \n",
      "=================================================================\n",
      "Total params: 2,390,704\n",
      "Trainable params: 2,390,704\n",
      "Non-trainable params: 0\n",
      "_________________________________________________________________\n"
     ]
    }
   ],
   "source": [
    "model = build_cnn_one()\n",
    "model.summary()"
   ]
  },
  {
   "cell_type": "code",
   "execution_count": 138,
   "metadata": {},
   "outputs": [],
   "source": [
    "model.compile(loss=sparse_categorical_crossentropy,\n",
    "             optimizer=SGD(learning_rate=0.001, momentum=0.9, nesterov=True),\n",
    "             metrics=['accuracy'])"
   ]
  },
  {
   "cell_type": "code",
   "execution_count": 139,
   "metadata": {},
   "outputs": [
    {
     "name": "stdout",
     "output_type": "stream",
     "text": [
      "Epoch 1/20\n",
      "5401/5401 [==============================] - 126s 23ms/step - loss: 1.5280 - accuracy: 0.6011 - val_loss: 0.7611 - val_accuracy: 0.8001\n",
      "Epoch 2/20\n",
      "5401/5401 [==============================] - 126s 23ms/step - loss: 0.8691 - accuracy: 0.7650 - val_loss: 0.4764 - val_accuracy: 0.8734\n",
      "Epoch 3/20\n",
      "5401/5401 [==============================] - 126s 23ms/step - loss: 0.6458 - accuracy: 0.8245 - val_loss: 0.3694 - val_accuracy: 0.9003\n",
      "Epoch 4/20\n",
      "5401/5401 [==============================] - 126s 23ms/step - loss: 0.5369 - accuracy: 0.8520 - val_loss: 0.3096 - val_accuracy: 0.9172\n",
      "Epoch 5/20\n",
      "5401/5401 [==============================] - 128s 24ms/step - loss: 0.4689 - accuracy: 0.8703 - val_loss: 0.2727 - val_accuracy: 0.9256\n",
      "Epoch 6/20\n",
      "5401/5401 [==============================] - 127s 23ms/step - loss: 0.4217 - accuracy: 0.8821 - val_loss: 0.2510 - val_accuracy: 0.9318\n",
      "Epoch 7/20\n",
      "5401/5401 [==============================] - 128s 24ms/step - loss: 0.3890 - accuracy: 0.8906 - val_loss: 0.2325 - val_accuracy: 0.9366\n",
      "Epoch 8/20\n",
      "5401/5401 [==============================] - 127s 23ms/step - loss: 0.3584 - accuracy: 0.8991 - val_loss: 0.2201 - val_accuracy: 0.9395\n",
      "Epoch 9/20\n",
      "5401/5401 [==============================] - 127s 24ms/step - loss: 0.3384 - accuracy: 0.9044 - val_loss: 0.2086 - val_accuracy: 0.9431\n",
      "Epoch 10/20\n",
      "5401/5401 [==============================] - 127s 23ms/step - loss: 0.3196 - accuracy: 0.9089 - val_loss: 0.2002 - val_accuracy: 0.9457\n",
      "Epoch 11/20\n",
      "5401/5401 [==============================] - 127s 23ms/step - loss: 0.3010 - accuracy: 0.9148 - val_loss: 0.1935 - val_accuracy: 0.9479\n",
      "Epoch 12/20\n",
      "5401/5401 [==============================] - 127s 24ms/step - loss: 0.2867 - accuracy: 0.9178 - val_loss: 0.1890 - val_accuracy: 0.9489\n",
      "Epoch 13/20\n",
      "5401/5401 [==============================] - 132s 25ms/step - loss: 0.2749 - accuracy: 0.9202 - val_loss: 0.1835 - val_accuracy: 0.9516\n",
      "Epoch 14/20\n",
      "5401/5401 [==============================] - 129s 24ms/step - loss: 0.2649 - accuracy: 0.9237 - val_loss: 0.1786 - val_accuracy: 0.9533\n",
      "Epoch 15/20\n",
      "5401/5401 [==============================] - 129s 24ms/step - loss: 0.2521 - accuracy: 0.9263 - val_loss: 0.1729 - val_accuracy: 0.9542\n",
      "Epoch 16/20\n",
      "5401/5401 [==============================] - 129s 24ms/step - loss: 0.2439 - accuracy: 0.9291 - val_loss: 0.1726 - val_accuracy: 0.9542\n",
      "Epoch 17/20\n",
      "5401/5401 [==============================] - 130s 24ms/step - loss: 0.2337 - accuracy: 0.9317 - val_loss: 0.1670 - val_accuracy: 0.9555\n",
      "Epoch 18/20\n",
      "5401/5401 [==============================] - 140s 26ms/step - loss: 0.2262 - accuracy: 0.9334 - val_loss: 0.1676 - val_accuracy: 0.9568\n",
      "Epoch 19/20\n",
      "5401/5401 [==============================] - 137s 25ms/step - loss: 0.2165 - accuracy: 0.9363 - val_loss: 0.1653 - val_accuracy: 0.9564\n",
      "Epoch 20/20\n",
      "5401/5401 [==============================] - 137s 25ms/step - loss: 0.2126 - accuracy: 0.9369 - val_loss: 0.1607 - val_accuracy: 0.9576\n"
     ]
    },
    {
     "data": {
      "text/plain": [
       "<keras.callbacks.History at 0x7f152c556910>"
      ]
     },
     "execution_count": 139,
     "metadata": {},
     "output_type": "execute_result"
    }
   ],
   "source": [
    "model.fit(train_X.reshape(train_X.shape[0], 28,28,1), train_y, epochs=20, validation_split=0.2)"
   ]
  },
  {
   "cell_type": "code",
   "execution_count": 140,
   "metadata": {},
   "outputs": [
    {
     "data": {
      "text/plain": [
       "<AxesSubplot:>"
      ]
     },
     "execution_count": 140,
     "metadata": {},
     "output_type": "execute_result"
    },
    {
     "data": {
      "image/png": "[encoded data removed]",
      "text/plain": [
       "<Figure size 432x288 with 1 Axes>"
      ]
     },
     "metadata": {},
     "output_type": "display_data"
    }
   ],
   "source": [
    "pd.DataFrame(history.history).plot() "
   ]
  },
  {
   "cell_type": "code",
   "execution_count": 168,
   "metadata": {},
   "outputs": [
    {
     "name": "stdout",
     "output_type": "stream",
     "text": [
      "1183/1183 [==============================] - 6s 5ms/step - loss: 1.0285 - accuracy: 0.8642\n"
     ]
    },
    {
     "data": {
      "text/plain": [
       "[1.0285084247589111, 0.8641684651374817]"
      ]
     },
     "execution_count": 168,
     "metadata": {},
     "output_type": "execute_result"
    }
   ],
   "source": [
    "model.evaluate(test_X.reshape(test_X.shape[0], 28,28,1), test_y)"
   ]
  },
  {
   "cell_type": "markdown",
   "metadata": {},
   "source": [
    "Pretty good performnce for its simplicity."
   ]
  },
  {
   "cell_type": "markdown",
   "metadata": {},
   "source": [
    "### CNN #2 - Deeper "
   ]
  },
  {
   "cell_type": "code",
   "execution_count": 176,
   "metadata": {},
   "outputs": [],
   "source": [
    "def build_cnn_two():\n",
    "    model = Sequential([\n",
    "        Conv2D(64, 7, activation='relu', padding='same', input_shape=[28,28,1]),\n",
    "        MaxPooling2D(2),\n",
    "        Conv2D(128, 3, activation='relu', padding='same'),\n",
    "        Conv2D(128, 3, activation='relu', padding='same'),\n",
    "        MaxPooling2D(2),\n",
    "        Conv2D(256, 3, activation='relu', padding='same'),\n",
    "        Conv2D(256, 3, activation='relu', padding='same'),\n",
    "        MaxPooling2D(2),\n",
    "        Flatten(),\n",
    "        Dense(128, activation='relu'),\n",
    "        Dropout(0.5),\n",
    "        Dense(64, activation='relu'),\n",
    "        Dropout(0.5),\n",
    "        Dense(48, activation='softmax')\n",
    "    ])\n",
    "    \n",
    "    return model\n",
    "    \n",
    "model = build_cnn_two()"
   ]
  },
  {
   "cell_type": "code",
   "execution_count": 177,
   "metadata": {},
   "outputs": [],
   "source": [
    "from tensorflow.keras.optimizers import Adam\n",
    "\n",
    "model.compile(loss=sparse_categorical_crossentropy,\n",
    "             optimizer=Adam(learning_rate=0.001, beta_1=0.9, beta_2=0.999),\n",
    "             metrics=['accuracy'])"
   ]
  },
  {
   "cell_type": "code",
   "execution_count": 178,
   "metadata": {},
   "outputs": [
    {
     "name": "stdout",
     "output_type": "stream",
     "text": [
      "Epoch 1/10\n",
      "5401/5401 [==============================] - 404s 75ms/step - loss: 1.5316 - accuracy: 0.5900 - val_loss: 0.3733 - val_accuracy: 0.9111\n",
      "Epoch 2/10\n",
      "5401/5401 [==============================] - 406s 75ms/step - loss: 0.6399 - accuracy: 0.8330 - val_loss: 0.2737 - val_accuracy: 0.9327\n",
      "Epoch 3/10\n",
      "5401/5401 [==============================] - 413s 77ms/step - loss: 0.4856 - accuracy: 0.8757 - val_loss: 0.2253 - val_accuracy: 0.9489\n",
      "Epoch 4/10\n",
      "5401/5401 [==============================] - 416s 77ms/step - loss: 0.4133 - accuracy: 0.8947 - val_loss: 0.1980 - val_accuracy: 0.9535\n",
      "Epoch 5/10\n",
      "5401/5401 [==============================] - 412s 76ms/step - loss: 0.3678 - accuracy: 0.9070 - val_loss: 0.1881 - val_accuracy: 0.9583\n",
      "Epoch 6/10\n",
      "5401/5401 [==============================] - 394s 73ms/step - loss: 0.3424 - accuracy: 0.9145 - val_loss: 0.1861 - val_accuracy: 0.9589\n",
      "Epoch 7/10\n",
      "5401/5401 [==============================] - 376s 70ms/step - loss: 0.3196 - accuracy: 0.9200 - val_loss: 0.1732 - val_accuracy: 0.9607\n",
      "Epoch 8/10\n",
      "5401/5401 [==============================] - 378s 70ms/step - loss: 0.3047 - accuracy: 0.9235 - val_loss: 0.1698 - val_accuracy: 0.9642\n",
      "Epoch 9/10\n",
      "5401/5401 [==============================] - 381s 71ms/step - loss: 0.2990 - accuracy: 0.9260 - val_loss: 0.1879 - val_accuracy: 0.9622\n",
      "Epoch 10/10\n",
      "5401/5401 [==============================] - 384s 71ms/step - loss: 0.2852 - accuracy: 0.9283 - val_loss: 0.1849 - val_accuracy: 0.9615\n"
     ]
    },
    {
     "data": {
      "text/plain": [
       "<keras.callbacks.History at 0x7f1529aa14f0>"
      ]
     },
     "execution_count": 178,
     "metadata": {},
     "output_type": "execute_result"
    }
   ],
   "source": [
    "model.fit(train_X.reshape(train_X.shape[0], 28,28,1), train_y, epochs=10, validation_split=0.2)"
   ]
  },
  {
   "cell_type": "code",
   "execution_count": 179,
   "metadata": {},
   "outputs": [
    {
     "name": "stdout",
     "output_type": "stream",
     "text": [
      "1183/1183 [==============================] - 24s 20ms/step - loss: 2.4621 - accuracy: 0.8706\n"
     ]
    },
    {
     "data": {
      "text/plain": [
       "[2.4621071815490723, 0.8706429600715637]"
      ]
     },
     "execution_count": 179,
     "metadata": {},
     "output_type": "execute_result"
    }
   ],
   "source": [
    "model.evaluate(test_X.reshape(test_X.shape[0], 28,28,1), test_y)"
   ]
  },
  {
   "cell_type": "code",
   "execution_count": null,
   "metadata": {},
   "outputs": [],
   "source": [
    "model.save(os.path.join('models', 'final_model'))"
   ]
  },
  {
   "cell_type": "markdown",
   "metadata": {},
   "source": [
    "## Future work\n",
    "\n",
    "- Some character is missing on train set and test set. It might be worth making sure the ratio is the same.\n",
    "- Further fine-tune the model\n",
    "I will leave it for now but I will come back to experiment further."
   ]
  }
 ],
 "metadata": {
  "interpreter": {
   "hash": "a6e73b1452c419e38f349668e027ae75fd8ff57be1ad488a0817161276c576cb"
  },
  "kernelspec": {
   "display_name": "Python 3.8.10 64-bit ('venv': venv)",
   "name": "python3"
  },
  "language_info": {
   "codemirror_mode": {
    "name": "ipython",
    "version": 3
   },
   "file_extension": ".py",
   "mimetype": "text/x-python",
   "name": "python",
   "nbconvert_exporter": "python",
   "pygments_lexer": "ipython3",
   "version": "3.8.10"
  }
 },
 "nbformat": 4,
 "nbformat_minor": 2
}
